{
 "cells": [
  {
   "attachments": {},
   "cell_type": "markdown",
   "metadata": {},
   "source": [
    "# KI und NI Blatt 1\n",
    "- **Gruppe KINI16**\n",
    "    - Lars Pfrenger\n",
    "    - Jonas Kaiser\n",
    "\n",
    "## Aufgabe 1\n",
    "### 1.\n",
    "$$\\dot{u}_1(t) = \\frac{(-u_1(t) + x_1(t))}{\\tau}$$\n",
    "$$\\dot{u}_2(t)= \\frac{(-u_2(t)+c_{12} \\cdot y_1(t))}{\\tau} = \\frac{(-u_2(t)+c_{12} \\cdot u_1(t))}{\\tau}$$\n",
    "\n",
    "### 2.\n",
    "- Für $u_1$ maximal 1\n",
    "- Für $u_2$ maximal $c_{12}$  \n",
    "\n",
    "### 3."
   ]
  },
  {
   "cell_type": "code",
   "execution_count": 1,
   "metadata": {},
   "outputs": [],
   "source": [
    "import numpy\n",
    "\n",
    "def x1(t):\n",
    "    if t < 5: return 0\n",
    "    if t < 15: return 1\n",
    "    return 0\n",
    "\n",
    "def lin_model(tau, weight):\n",
    "    t_end = 30\n",
    "    delta_time = 0.1\n",
    "\n",
    "    time_steps = numpy.arange(0, t_end, delta_time)\n",
    "\n",
    "    u1 = [0]\n",
    "    u2 = [0]\n",
    "    \n",
    "    udot1 = []\n",
    "    udot2 = []\n",
    "\n",
    "    for t in time_steps:\n",
    "        udot1.append(((x1(t) - u1[-1])) / tau)\n",
    "        u1.append(u1[-1] + delta_time * udot1[-1])\n",
    "\n",
    "        udot2.append(((weight * u1[-2] - u2[-1])) / tau)\n",
    "        u2.append(u2[-1] + delta_time * udot2[-1])\n",
    "\n",
    "    u1.remove(0)\n",
    "    u2.remove(0)\n",
    "\n",
    "    return time_steps, numpy.array(udot1), numpy.array(udot2), numpy.array(u1), numpy.array(u2)\n"
   ]
  },
  {
   "attachments": {},
   "cell_type": "markdown",
   "metadata": {},
   "source": [
    "### 4."
   ]
  },
  {
   "cell_type": "code",
   "execution_count": 2,
   "metadata": {},
   "outputs": [
    {
     "data": {
      "application/vnd.jupyter.widget-view+json": {
       "model_id": "73bf680e5b0c46f2be12c780c265793a",
       "version_major": 2,
       "version_minor": 0
      },
      "text/plain": [
       "interactive(children=(FloatSlider(value=1.0, description='Tau:', max=4.0), FloatSlider(value=0.5, description=…"
      ]
     },
     "metadata": {},
     "output_type": "display_data"
    },
    {
     "data": {
      "text/plain": [
       "<function __main__.plot_model(tau, weight)>"
      ]
     },
     "execution_count": 2,
     "metadata": {},
     "output_type": "execute_result"
    }
   ],
   "source": [
    "%matplotlib widget\n",
    "from ipywidgets import interact\n",
    "import ipywidgets as widgets\n",
    "import matplotlib.pyplot as plt\n",
    "\n",
    "fig, ax1 = plt.subplots(1, 1)\n",
    "\n",
    "def plot_model(tau, weight):\n",
    "    t, udot1, udot2, u1, u2 = lin_model(tau, weight)\n",
    "\n",
    "    ax1.clear()\n",
    "    ax1.plot(t, udot1, label=\"$\\dot{u}_1$\")\n",
    "    ax1.plot(t, udot2, label=\"$\\dot{u}_2$\")\n",
    "    ax1.plot(t, u1, label=\"$u_1$\")\n",
    "    ax1.plot(t, u2, label=\"$u_2$\")\n",
    "    ax1.legend(loc=\"lower right\")\n",
    "    ax1.set_title(r'$\\tau = %.2f, c_{12}=%.2f$' % (tau, weight))\n",
    "    ax1.grid(True)\n",
    "    ax1.set_xlabel(\"Time (s)\")\n",
    "\n",
    "    plt.show()    \n",
    "\n",
    "\n",
    "tau_slider = widgets.FloatSlider(min=0, max=4, value=1.0, description='Tau:')\n",
    "weight_slider = widgets.FloatSlider(min=-2, max=2, value=0.5, description='Weight:')\n",
    "\n",
    "interact(plot_model, tau=tau_slider, weight=weight_slider)"
   ]
  },
  {
   "attachments": {},
   "cell_type": "markdown",
   "metadata": {},
   "source": [
    "### 5.\n",
    "#### a)\n",
    "Ab $t=15$ ist $x_1(15) = 0$, also der Input des ersten Neurons ist gleich Null. Da $x_1(15)=0$ gilt $\\dot{u}_1(15) = -u_1(t) + 0 = -1.0$. Somit ist die Ableitung von $u_1$ also Negativ, wodurch natürlich die Funktionswerte von $u_1$ abfallen. \n",
    "\n",
    "Da $u_2$ von $u_1$ abhängt fällt dies also auch.\n",
    "\n",
    "Biologisch gesehen ist das wünschenswert, da man sonst mehr Energie aufwenden müsste, um das Potentail am Output des Neurons aufrecht zu erhalten. \n",
    "\n",
    "#### b)\n",
    "##### $\\tau < 1$: \n",
    "- $\\dot{u}_1(t)$ und $\\dot{u}_2(t)$ wird um den Faktor $\\tau$ Skaliert (sie werden größer, da $\\tau < 1$). Dadurch nehmen $u_1$ und $u_2$ schneller ihre minimalen bzw. maximalen Werte an.\n",
    "- Interpretation: Die Zeit verläuft in der Simulation schneller, als in echt.\n",
    "\n",
    "##### $\\tau > 1$:\n",
    "- $\\dot{u}_1(t)$ und $\\dot{u}_2(t)$ wird um den Faktor $\\tau$ Skaliert (sie werden kleiner, da $\\tau > 1$). Dadurch nehmen $u_1$ und $u_2$ langsamer ihre minimalen bzw. maximalen Werte an.\n",
    "- Interpretation: Die Zeit verläuft langsamer in der Simulation, als in echt.\n",
    "\n",
    "\n",
    "#### c)\n",
    "Wenn $\\tau = 0$ dann $\\dot{u_1}(t) = \\dot{u_2}(t) = undefined$ für alle $t \\in [0,30]$\n",
    "\n",
    "#### d)\n",
    "Das Gewicht $c_{12}$ skaliert den Output des 2. Neurons also $y_2(t)$\n",
    "\n",
    "#### e)\n",
    "Der Graph von $u_2(t)$ würde sich nach rechts verschieben.\n"
   ]
  }
 ],
 "metadata": {
  "kernelspec": {
   "display_name": "Python 3",
   "language": "python",
   "name": "python3"
  },
  "language_info": {
   "codemirror_mode": {
    "name": "ipython",
    "version": 3
   },
   "file_extension": ".py",
   "mimetype": "text/x-python",
   "name": "python",
   "nbconvert_exporter": "python",
   "pygments_lexer": "ipython3",
   "version": "3.11.5"
  },
  "orig_nbformat": 4
 },
 "nbformat": 4,
 "nbformat_minor": 2
}
